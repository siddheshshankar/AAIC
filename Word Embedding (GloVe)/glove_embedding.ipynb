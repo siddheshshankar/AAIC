{
 "cells": [
  {
   "cell_type": "code",
   "execution_count": 8,
   "id": "1be7c7c7-a01c-4f5e-a128-34823cfdc148",
   "metadata": {},
   "outputs": [],
   "source": [
    "# Importing libraries\n",
    "import numpy as np\n",
    "import pandas as pd"
   ]
  },
  {
   "cell_type": "code",
   "execution_count": 12,
   "id": "b56eed3c-c1b2-4829-acba-fe068d7dbcc2",
   "metadata": {},
   "outputs": [],
   "source": [
    "def load_glove_model(File):\n",
    "    f = open(File,'r', encoding=\"utf8\")\n",
    "    gloveModel = {}\n",
    "    for line in f:\n",
    "        splitLines = line.split()\n",
    "        word = splitLines[0]\n",
    "        wordEmbedding = np.array([float(value) for value in splitLines[1:]])\n",
    "        gloveModel[word] = wordEmbedding\n",
    "    return gloveModel\n",
    "\n",
    "\n",
    "def get_vector(word):\n",
    "    return glove_vector.get(word)\n",
    "\n",
    "\n",
    "def find_country(v, word_embedding):\n",
    "    diff = word_embedding.values - v\n",
    "    delta = np.sum(diff * diff, axis=1)\n",
    "    i = np.argmin(delta)\n",
    "    return embedding.iloc[i].name"
   ]
  },
  {
   "cell_type": "code",
   "execution_count": 13,
   "id": "ea3bf607-5de5-4d8e-9da5-7581f3f9d3d3",
   "metadata": {},
   "outputs": [],
   "source": [
    "# Reading glove file\n",
    "glove_vector = load_glove_model(\"glove.6B.50d.txt\")\n",
    "\n",
    "# Storing values in a list\n",
    "keys = glove_vector.keys()\n",
    "data = []\n",
    "for key in keys:\n",
    "    data.append(glove_vector.get(key))\n",
    "\n",
    "# Creating dataframe\n",
    "word_embedding = pd.DataFrame(data=data, index=keys)"
   ]
  },
  {
   "cell_type": "code",
   "execution_count": 18,
   "id": "6fba1d87-afc8-4ec0-9098-2e806238c70e",
   "metadata": {},
   "outputs": [],
   "source": [
    "# We can say that the vector difference between 'France' and 'Paris' represents the concept of Capital.\n",
    "# We can do it for Moscow\n",
    "\n",
    "capital = get_vector('france') - get_vector('paris')\n",
    "country = capital + get_vector('delhi')"
   ]
  },
  {
   "cell_type": "code",
   "execution_count": 19,
   "id": "c3f7311e-41b9-4ab6-b8c2-9240b8c610e7",
   "metadata": {},
   "outputs": [
    {
     "data": {
      "text/plain": [
       "'india'"
      ]
     },
     "execution_count": 19,
     "metadata": {},
     "output_type": "execute_result"
    }
   ],
   "source": [
    "find_country(country, word_embedding)"
   ]
  }
 ],
 "metadata": {
  "kernelspec": {
   "display_name": "Python 3",
   "language": "python",
   "name": "python3"
  },
  "language_info": {
   "codemirror_mode": {
    "name": "ipython",
    "version": 3
   },
   "file_extension": ".py",
   "mimetype": "text/x-python",
   "name": "python",
   "nbconvert_exporter": "python",
   "pygments_lexer": "ipython3",
   "version": "3.9.2"
  }
 },
 "nbformat": 4,
 "nbformat_minor": 5
}
