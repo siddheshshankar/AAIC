{
 "cells": [
  {
   "cell_type": "code",
   "execution_count": 1,
   "id": "1be7c7c7-a01c-4f5e-a128-34823cfdc148",
   "metadata": {},
   "outputs": [],
   "source": [
    "# Importing libraries\n",
    "import numpy as np\n",
    "import pandas as pd"
   ]
  },
  {
   "cell_type": "code",
   "execution_count": 8,
   "id": "b56eed3c-c1b2-4829-acba-fe068d7dbcc2",
   "metadata": {},
   "outputs": [],
   "source": [
    "def load_glove_model(File):\n",
    "    f = open(File,'r', encoding=\"utf8\")\n",
    "    gloveModel = {}\n",
    "    for line in f:\n",
    "        splitLines = line.split()\n",
    "        word = splitLines[0]\n",
    "        wordEmbedding = np.array([float(value) for value in splitLines[1:]])\n",
    "        gloveModel[word] = wordEmbedding\n",
    "    return gloveModel\n",
    "\n",
    "\n",
    "def get_vector(word):\n",
    "    return glove_vector.get(word)\n",
    "\n",
    "\n",
    "def find_country(v, word_embedding):\n",
    "    diff = word_embedding.values - v\n",
    "    delta = np.sum(diff * diff, axis=1)\n",
    "    i = np.argmin(delta)\n",
    "    return word_embedding.iloc[i].name"
   ]
  },
  {
   "cell_type": "code",
   "execution_count": 5,
   "id": "ea3bf607-5de5-4d8e-9da5-7581f3f9d3d3",
   "metadata": {},
   "outputs": [],
   "source": [
    "# Reading glove file\n",
    "glove_vector = load_glove_model(\"C:/Users/Siddhesh/Downloads/glove.6B.50d.txt\")\n",
    "\n",
    "# Storing values in a list\n",
    "keys = glove_vector.keys()\n",
    "data = []\n",
    "for key in keys:\n",
    "    data.append(glove_vector.get(key))\n",
    "\n",
    "# Creating dataframe\n",
    "word_embedding = pd.DataFrame(data=data, index=keys)"
   ]
  },
  {
   "cell_type": "markdown",
   "id": "e8f2da48-2db5-4829-809c-f8088420394d",
   "metadata": {},
   "source": [
    "### Predicting Countries"
   ]
  },
  {
   "cell_type": "code",
   "execution_count": 17,
   "id": "6fba1d87-afc8-4ec0-9098-2e806238c70e",
   "metadata": {},
   "outputs": [],
   "source": [
    "# We can say that the vector difference between 'France' and 'Paris' represents the concept of Capital.\n",
    "# We can do it for Moscow\n",
    "\n",
    "known_relation = get_vector('france') - get_vector('paris')  # Using the known relation to figure out other countries on the basis of their capital\n",
    "country = known_relation + get_vector('moscow')"
   ]
  },
  {
   "cell_type": "code",
   "execution_count": 15,
   "id": "c3f7311e-41b9-4ab6-b8c2-9240b8c610e7",
   "metadata": {},
   "outputs": [
    {
     "data": {
      "text/plain": [
       "'russia'"
      ]
     },
     "execution_count": 15,
     "metadata": {},
     "output_type": "execute_result"
    }
   ],
   "source": [
    "find_country(country, word_embedding)"
   ]
  },
  {
   "cell_type": "code",
   "execution_count": 27,
   "id": "528b9754-748b-4a73-b17d-5a4050cb3e6a",
   "metadata": {},
   "outputs": [
    {
     "data": {
      "text/plain": [
       "'india'"
      ]
     },
     "execution_count": 27,
     "metadata": {},
     "output_type": "execute_result"
    }
   ],
   "source": [
    "country = known_relation + get_vector('delhi')\n",
    "find_country(country, word_embedding)"
   ]
  },
  {
   "cell_type": "code",
   "execution_count": 28,
   "id": "e0d7f850-e995-475b-886b-b29908ac7565",
   "metadata": {},
   "outputs": [
    {
     "data": {
      "text/plain": [
       "'italy'"
      ]
     },
     "execution_count": 28,
     "metadata": {},
     "output_type": "execute_result"
    }
   ],
   "source": [
    "country = known_relation + get_vector('rome')\n",
    "find_country(country, word_embedding)"
   ]
  }
 ],
 "metadata": {
  "kernelspec": {
   "display_name": "Python 3",
   "language": "python",
   "name": "python3"
  },
  "language_info": {
   "codemirror_mode": {
    "name": "ipython",
    "version": 3
   },
   "file_extension": ".py",
   "mimetype": "text/x-python",
   "name": "python",
   "nbconvert_exporter": "python",
   "pygments_lexer": "ipython3",
   "version": "3.9.2"
  }
 },
 "nbformat": 4,
 "nbformat_minor": 5
}
